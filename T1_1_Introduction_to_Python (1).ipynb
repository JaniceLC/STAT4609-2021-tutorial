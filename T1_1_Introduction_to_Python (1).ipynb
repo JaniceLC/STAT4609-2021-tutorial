{
  "nbformat": 4,
  "nbformat_minor": 0,
  "metadata": {
    "kernelspec": {
      "display_name": "Python 3",
      "language": "python",
      "name": "python3"
    },
    "language_info": {
      "codemirror_mode": {
        "name": "ipython",
        "version": 3
      },
      "file_extension": ".py",
      "mimetype": "text/x-python",
      "name": "python",
      "nbconvert_exporter": "python",
      "pygments_lexer": "ipython3",
      "version": "3.7.4-final"
    },
    "colab": {
      "name": "T1_1_Introduction_to_Python.ipynb",
      "provenance": [],
      "collapsed_sections": [],
      "toc_visible": true
    },
    "widgets": {
      "application/vnd.jupyter.widget-state+json": {
        "1d687434260b4cda9546bf5e8eed67b1": {
          "model_module": "@jupyter-widgets/controls",
          "model_name": "TabModel",
          "state": {
            "_view_name": "TabView",
            "_dom_classes": [],
            "_titles": {
              "0": "Linear regression",
              "1": "Normal distribution"
            },
            "_model_name": "TabModel",
            "_view_module": "@jupyter-widgets/controls",
            "selected_index": 0,
            "_model_module_version": "1.5.0",
            "_view_count": null,
            "_view_module_version": "1.5.0",
            "box_style": "",
            "layout": "IPY_MODEL_1ffb56d92d534abdb967782478aa3324",
            "_model_module": "@jupyter-widgets/controls",
            "children": [
              "IPY_MODEL_28bc3becb3474216ac8eaf55d6cccd3f",
              "IPY_MODEL_0d8945fd8b934e56a9cb2d19b0a20892"
            ]
          },
          "model_module_version": "1.5.0"
        },
        "1ffb56d92d534abdb967782478aa3324": {
          "model_module": "@jupyter-widgets/base",
          "model_name": "LayoutModel",
          "state": {
            "_view_name": "LayoutView",
            "grid_template_rows": null,
            "right": null,
            "justify_content": null,
            "_view_module": "@jupyter-widgets/base",
            "overflow": null,
            "_model_module_version": "1.2.0",
            "_view_count": null,
            "flex_flow": null,
            "width": null,
            "min_width": null,
            "border": null,
            "align_items": null,
            "bottom": null,
            "_model_module": "@jupyter-widgets/base",
            "top": null,
            "grid_column": null,
            "overflow_y": null,
            "overflow_x": null,
            "grid_auto_flow": null,
            "grid_area": null,
            "grid_template_columns": null,
            "flex": null,
            "_model_name": "LayoutModel",
            "justify_items": null,
            "grid_row": null,
            "max_height": null,
            "align_content": null,
            "visibility": null,
            "align_self": null,
            "height": null,
            "min_height": null,
            "padding": null,
            "grid_auto_rows": null,
            "grid_gap": null,
            "max_width": null,
            "order": null,
            "_view_module_version": "1.2.0",
            "grid_template_areas": null,
            "object_position": null,
            "object_fit": null,
            "grid_auto_columns": null,
            "margin": null,
            "display": null,
            "left": null
          },
          "model_module_version": "1.2.0"
        },
        "28bc3becb3474216ac8eaf55d6cccd3f": {
          "model_module": "@jupyter-widgets/output",
          "model_name": "OutputModel",
          "state": {
            "_view_name": "OutputView",
            "msg_id": "",
            "_dom_classes": [],
            "_model_name": "OutputModel",
            "outputs": [
              {
                "output_type": "display_data",
                "metadata": {
                  "tags": [],
                  "needs_background": "light"
                },
                "image/png": "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\n",
                "text/plain": "<Figure size 432x288 with 1 Axes>"
              }
            ],
            "_view_module": "@jupyter-widgets/output",
            "_model_module_version": "1.0.0",
            "_view_count": null,
            "_view_module_version": "1.0.0",
            "layout": "IPY_MODEL_d4feeaa292b64f3696871aec3c192608",
            "_model_module": "@jupyter-widgets/output"
          },
          "model_module_version": "1.0.0"
        },
        "0d8945fd8b934e56a9cb2d19b0a20892": {
          "model_module": "@jupyter-widgets/output",
          "model_name": "OutputModel",
          "state": {
            "_view_name": "OutputView",
            "msg_id": "",
            "_dom_classes": [],
            "_model_name": "OutputModel",
            "outputs": [
              {
                "output_type": "display_data",
                "metadata": {
                  "tags": [],
                  "needs_background": "light"
                },
                "image/png": "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\n",
                "text/plain": "<Figure size 432x288 with 1 Axes>"
              }
            ],
            "_view_module": "@jupyter-widgets/output",
            "_model_module_version": "1.0.0",
            "_view_count": null,
            "_view_module_version": "1.0.0",
            "layout": "IPY_MODEL_99f1e00fdca14815a87cb409dcc049a7",
            "_model_module": "@jupyter-widgets/output"
          },
          "model_module_version": "1.0.0"
        },
        "d4feeaa292b64f3696871aec3c192608": {
          "model_module": "@jupyter-widgets/base",
          "model_name": "LayoutModel",
          "state": {
            "_view_name": "LayoutView",
            "grid_template_rows": null,
            "right": null,
            "justify_content": null,
            "_view_module": "@jupyter-widgets/base",
            "overflow": null,
            "_model_module_version": "1.2.0",
            "_view_count": null,
            "flex_flow": null,
            "width": null,
            "min_width": null,
            "border": null,
            "align_items": null,
            "bottom": null,
            "_model_module": "@jupyter-widgets/base",
            "top": null,
            "grid_column": null,
            "overflow_y": null,
            "overflow_x": null,
            "grid_auto_flow": null,
            "grid_area": null,
            "grid_template_columns": null,
            "flex": null,
            "_model_name": "LayoutModel",
            "justify_items": null,
            "grid_row": null,
            "max_height": null,
            "align_content": null,
            "visibility": null,
            "align_self": null,
            "height": null,
            "min_height": null,
            "padding": null,
            "grid_auto_rows": null,
            "grid_gap": null,
            "max_width": null,
            "order": null,
            "_view_module_version": "1.2.0",
            "grid_template_areas": null,
            "object_position": null,
            "object_fit": null,
            "grid_auto_columns": null,
            "margin": null,
            "display": null,
            "left": null
          },
          "model_module_version": "1.2.0"
        },
        "99f1e00fdca14815a87cb409dcc049a7": {
          "model_module": "@jupyter-widgets/base",
          "model_name": "LayoutModel",
          "state": {
            "_view_name": "LayoutView",
            "grid_template_rows": null,
            "right": null,
            "justify_content": null,
            "_view_module": "@jupyter-widgets/base",
            "overflow": null,
            "_model_module_version": "1.2.0",
            "_view_count": null,
            "flex_flow": null,
            "width": null,
            "min_width": null,
            "border": null,
            "align_items": null,
            "bottom": null,
            "_model_module": "@jupyter-widgets/base",
            "top": null,
            "grid_column": null,
            "overflow_y": null,
            "overflow_x": null,
            "grid_auto_flow": null,
            "grid_area": null,
            "grid_template_columns": null,
            "flex": null,
            "_model_name": "LayoutModel",
            "justify_items": null,
            "grid_row": null,
            "max_height": null,
            "align_content": null,
            "visibility": null,
            "align_self": null,
            "height": null,
            "min_height": null,
            "padding": null,
            "grid_auto_rows": null,
            "grid_gap": null,
            "max_width": null,
            "order": null,
            "_view_module_version": "1.2.0",
            "grid_template_areas": null,
            "object_position": null,
            "object_fit": null,
            "grid_auto_columns": null,
            "margin": null,
            "display": null,
            "left": null
          },
          "model_module_version": "1.2.0"
        }
      }
    }
  },
  "cells": [
    {
      "cell_type": "markdown",
      "metadata": {
        "id": "cuaJOA5new04"
      },
      "source": [
        "# STAT4609 Example Class 1 (I) {-}\n",
        "# Introduction to Data Science in Python {-}\n",
        "\n",
        "This notebook helps introduce some of the most basic tools that are commonly used for doing data science and statistics in Python.\n",
        "\n",
        "# Table of contents {-}\n",
        "* [Jupyter Notebook](#Jupyter-Notebook) Jupyter Notebook\n",
        "* [pandas](#pandas) Pandas\n",
        "* [NumPy](#Introduction-to-NumPy) NumPy\n",
        "* [Additional references](#additional-references) Additional references\n",
        "\n",
        "**Note: you will need to run the following code cell every time you restart this notebook**\n",
        "\n",
        "If this is your first time using Jupyter, click the block of code below and either press the <i class=\"fa-step-forward fa\"></i><span class=\"toolbar-btn-label\">Run</span></div> button or press `Shift + Enter` on your keyboard."
      ]
    },
    {
      "cell_type": "code",
      "metadata": {
        "id": "5KyA0Lhij9AM",
        "colab": {
          "base_uri": "https://localhost:8080/"
        },
        "outputId": "9dc3b595-b0e0-483d-b65e-ca397498bcfa"
      },
      "source": [
        "from platform import python_version\n",
        "\n",
        "print(python_version())"
      ],
      "execution_count": null,
      "outputs": [
        {
          "output_type": "stream",
          "text": [
            "3.6.9\n"
          ],
          "name": "stdout"
        }
      ]
    },
    {
      "cell_type": "code",
      "metadata": {
        "id": "kJM53Yawew07"
      },
      "source": [
        "import pandas               as pd\n",
        "import matplotlib.pyplot    as plt\n",
        "import numpy                as np\n",
        "import seaborn              as sns\n",
        "from   sklearn.linear_model import LinearRegression\n",
        "\n",
        "from IPython.display import display\n",
        "\n",
        "iris = sns.load_dataset('iris')\n"
      ],
      "execution_count": null,
      "outputs": []
    },
    {
      "cell_type": "markdown",
      "metadata": {
        "tags": [
          "jupyter-notebook"
        ],
        "id": "KMV_hiOQew08"
      },
      "source": [
        "# Jupyter Notebook <a id=\"Jupyter-Notebook\"></a>\n",
        "[Jupyter Notebook](https://jupyter.org/) is an interactive tool for running code and visualizing data. Each notebook consists of a series of _code cells_ and _Markdown cells_.\n",
        "\n",
        "* Code cells allow you to run code in a number of languages. Behind the scenes, Jupyter runs a \"kernel\" that processes the code whenever you execute a cell. Since this is a Python notebook, Jupyter is running the [IPython](https://ipython.org/) kernel. However, kernels also exist for Julia, R, and many other languages.\n",
        "* Markdown cells display text using the [Markdown language](https://jupyter-notebook.readthedocs.io/en/stable/examples/Notebook/Working%20With%20Markdown%20Cells.html). In addition to displaying text, you can write equations in these cells using $\\LaTeX$.\n",
        "\n",
        "To run code, click a code cell (like the one below) and do one of the following:\n",
        "* Press `Shift + Enter` on your keyboard\n",
        "* On the toolbar at the top of this notebook, press the <i class=\"fa-step-forward fa\"></i><span class=\"toolbar-btn-label\">Run</span> button."
      ]
    },
    {
      "cell_type": "code",
      "metadata": {
        "tags": [
          "jupyter-notebook"
        ],
        "id": "Ms8StNMSew09",
        "colab": {
          "base_uri": "https://localhost:8080/"
        },
        "outputId": "0b4ed19f-3f4f-4cb7-f987-bf5edfcd387e"
      },
      "source": [
        "print(\"Hello, world!\")"
      ],
      "execution_count": null,
      "outputs": [
        {
          "output_type": "stream",
          "text": [
            "Hello, world!\n"
          ],
          "name": "stdout"
        }
      ]
    },
    {
      "cell_type": "markdown",
      "metadata": {
        "tags": [
          "jupyter-notebook"
        ],
        "id": "0Fr4H3P7ew09"
      },
      "source": [
        "You can render a markdown cell in the same way. Double click the text below, and try putting in some of the following items:\n",
        "\n",
        "    # This is a large heading!\n",
        "    ## This is a smaller heading!\n",
        "    ### This is an even smaller heading!\n",
        "    Here is some code: `x = y + z`\n",
        "    And here is an equation: $x = y + z$"
      ]
    },
    {
      "cell_type": "markdown",
      "metadata": {
        "id": "kT4pyDOQew0-"
      },
      "source": [
        "## Cell magic\n",
        "The IPython kernel provides some useful tools for programmers, including\n",
        "\n",
        "* [Magic commands](https://ipython.readthedocs.io/en/stable/interactive/magics.html), which allow you to do things like look up documentation and past commands that you've run, and\n",
        "* [Building graphical user interfaces (GUIs)](https://ipython.org/ipython-doc/stable/interactive/reference.html#gui-event-loop-support) to make it easier to interact with your code.\n",
        "\n",
        "Here's an example of a useful magic command. `?` will look up the documentation for a library, class, or function to help you figure out how to use it. For instance, if I want to learn about [pandas DataFrames](https://pandas.pydata.org/pandas-docs/stable/reference/api/pandas.DataFrame.html), I can run the following:"
      ]
    },
    {
      "cell_type": "code",
      "metadata": {
        "collapsed": true,
        "id": "hxPw6O44ew0-"
      },
      "source": [
        "?pd.DataFrame"
      ],
      "execution_count": null,
      "outputs": []
    },
    {
      "cell_type": "markdown",
      "metadata": {
        "id": "EWf0G4Nkew0-"
      },
      "source": [
        "If you want to see all the magic functions that IPython makes available to you, `%quickref` can give you a high-level overview."
      ]
    },
    {
      "cell_type": "code",
      "metadata": {
        "collapsed": true,
        "id": "2JG9XXW1ew0-"
      },
      "source": [
        "%quickref"
      ],
      "execution_count": null,
      "outputs": []
    },
    {
      "cell_type": "markdown",
      "metadata": {
        "tags": [
          "jupyter-notebook"
        ],
        "id": "zrM0aexpew0_"
      },
      "source": [
        "## Widgets\n",
        "IPython and Jupyter Notebook also makes it easy to build [widgets](https://ipywidgets.readthedocs.io/en/latest/index.html), which give you a richer interface with which to interact with the notebook. Try running the code cell below. This code creates two plots, and displays them in adjacent tabs."
      ]
    },
    {
      "cell_type": "code",
      "metadata": {
        "scrolled": true,
        "tags": [
          "jupyter-notebook"
        ],
        "id": "Lu8tDEkVew0_",
        "colab": {
          "base_uri": "https://localhost:8080/",
          "height": 329,
          "referenced_widgets": [
            "1d687434260b4cda9546bf5e8eed67b1",
            "1ffb56d92d534abdb967782478aa3324",
            "28bc3becb3474216ac8eaf55d6cccd3f",
            "0d8945fd8b934e56a9cb2d19b0a20892",
            "d4feeaa292b64f3696871aec3c192608",
            "99f1e00fdca14815a87cb409dcc049a7"
          ]
        },
        "outputId": "c7979b6e-f200-4959-b83d-e4f170c2f193"
      },
      "source": [
        "%matplotlib inline\n",
        "\n",
        "import matplotlib.pyplot as plt\n",
        "import ipywidgets as widgets\n",
        "from scipy.stats import norm, linregress\n",
        "\n",
        "out = [widgets.Output(), widgets.Output()]\n",
        "tabs = widgets.Tab(children=[out[0], out[1]])\n",
        "tabs.set_title(0, 'Linear regression')\n",
        "tabs.set_title(1, 'Normal distribution')\n",
        "\n",
        "with out[0]:\n",
        "    # Fit line to some random data\n",
        "    x = np.random.uniform(size=30)\n",
        "    y = x + np.random.normal(scale=0.1, size=30)\n",
        "    slope, intercept, _, _, _ = linregress(x,y)\n",
        "    u = np.linspace(0, 1)\n",
        "    \n",
        "    # Plot\n",
        "    fig1, axes1 = plt.subplots()\n",
        "    axes1.scatter(x, y)\n",
        "    axes1.plot(u, slope * u + intercept, 'k')\n",
        "    plt.show(fig1)\n",
        "\n",
        "with out[1]:\n",
        "    # Plot the probability distribution function (pdf) of the\n",
        "    # standard normal distribution.\n",
        "    x = np.linspace(-3.5, 3.5, num=100)\n",
        "    p = norm.pdf(x)\n",
        "    \n",
        "    # Plot\n",
        "    fig2, axes2 = plt.subplots()\n",
        "    axes2.plot(x, p)\n",
        "    plt.show(fig2)\n",
        "\n",
        "display(tabs)"
      ],
      "execution_count": null,
      "outputs": [
        {
          "output_type": "display_data",
          "data": {
            "application/vnd.jupyter.widget-view+json": {
              "model_id": "1d687434260b4cda9546bf5e8eed67b1",
              "version_minor": 0,
              "version_major": 2
            },
            "text/plain": [
              "Tab(children=(Output(), Output()), _titles={'0': 'Linear regression', '1': 'Normal distribution'})"
            ]
          },
          "metadata": {
            "tags": []
          }
        }
      ]
    },
    {
      "cell_type": "markdown",
      "metadata": {
        "tags": [
          "jupyter-notebook"
        ],
        "id": "BMPG6HlEew0_"
      },
      "source": [
        "You can create much richer and more complex interfaces that include buttons, sliders, progress bars, and more with Jupyter's ipywidgets library ([docs](https://ipywidgets.readthedocs.io/en/latest/index.html))."
      ]
    },
    {
      "cell_type": "markdown",
      "metadata": {
        "tags": [
          "pandas"
        ],
        "id": "VEFa3pz8ew1A"
      },
      "source": [
        "# Pandas <a id=\"pandas\"></a>\n",
        "[pandas](https://pandas.pydata.org/) is a Python library that provides useful data structures and tools for analyzing data.\n",
        "\n",
        "The fundamental type of the pandas library is the `DataFrame`. In the following code, we load the [iris flower dataset](https://en.wikipedia.org/wiki/Iris_flower_data_set) using the [seaborn library](https://seaborn.pydata.org/). By default, this dataset is stored in a pandas `DataFrame`."
      ]
    },
    {
      "cell_type": "code",
      "metadata": {
        "tags": [
          "pandas"
        ],
        "id": "gGUnaPpgew1A",
        "colab": {
          "base_uri": "https://localhost:8080/",
          "height": 221
        },
        "outputId": "201c8ed5-029a-4c7e-952b-2165d431cb33"
      },
      "source": [
        "iris = sns.load_dataset('iris')\n",
        "\n",
        "# `iris` is stored as a pandas DataFrame\n",
        "print('Type of \"iris\":', type(iris))\n",
        "\n",
        "# Show the first few entries in this DataFrame\n",
        "iris.head()"
      ],
      "execution_count": null,
      "outputs": [
        {
          "output_type": "stream",
          "text": [
            "Type of \"iris\": <class 'pandas.core.frame.DataFrame'>\n"
          ],
          "name": "stdout"
        },
        {
          "output_type": "execute_result",
          "data": {
            "text/html": [
              "<div>\n",
              "<style scoped>\n",
              "    .dataframe tbody tr th:only-of-type {\n",
              "        vertical-align: middle;\n",
              "    }\n",
              "\n",
              "    .dataframe tbody tr th {\n",
              "        vertical-align: top;\n",
              "    }\n",
              "\n",
              "    .dataframe thead th {\n",
              "        text-align: right;\n",
              "    }\n",
              "</style>\n",
              "<table border=\"1\" class=\"dataframe\">\n",
              "  <thead>\n",
              "    <tr style=\"text-align: right;\">\n",
              "      <th></th>\n",
              "      <th>sepal_length</th>\n",
              "      <th>sepal_width</th>\n",
              "      <th>petal_length</th>\n",
              "      <th>petal_width</th>\n",
              "      <th>species</th>\n",
              "    </tr>\n",
              "  </thead>\n",
              "  <tbody>\n",
              "    <tr>\n",
              "      <th>0</th>\n",
              "      <td>5.1</td>\n",
              "      <td>3.5</td>\n",
              "      <td>1.4</td>\n",
              "      <td>0.2</td>\n",
              "      <td>setosa</td>\n",
              "    </tr>\n",
              "    <tr>\n",
              "      <th>1</th>\n",
              "      <td>4.9</td>\n",
              "      <td>3.0</td>\n",
              "      <td>1.4</td>\n",
              "      <td>0.2</td>\n",
              "      <td>setosa</td>\n",
              "    </tr>\n",
              "    <tr>\n",
              "      <th>2</th>\n",
              "      <td>4.7</td>\n",
              "      <td>3.2</td>\n",
              "      <td>1.3</td>\n",
              "      <td>0.2</td>\n",
              "      <td>setosa</td>\n",
              "    </tr>\n",
              "    <tr>\n",
              "      <th>3</th>\n",
              "      <td>4.6</td>\n",
              "      <td>3.1</td>\n",
              "      <td>1.5</td>\n",
              "      <td>0.2</td>\n",
              "      <td>setosa</td>\n",
              "    </tr>\n",
              "    <tr>\n",
              "      <th>4</th>\n",
              "      <td>5.0</td>\n",
              "      <td>3.6</td>\n",
              "      <td>1.4</td>\n",
              "      <td>0.2</td>\n",
              "      <td>setosa</td>\n",
              "    </tr>\n",
              "  </tbody>\n",
              "</table>\n",
              "</div>"
            ],
            "text/plain": [
              "   sepal_length  sepal_width  petal_length  petal_width species\n",
              "0           5.1          3.5           1.4          0.2  setosa\n",
              "1           4.9          3.0           1.4          0.2  setosa\n",
              "2           4.7          3.2           1.3          0.2  setosa\n",
              "3           4.6          3.1           1.5          0.2  setosa\n",
              "4           5.0          3.6           1.4          0.2  setosa"
            ]
          },
          "metadata": {
            "tags": []
          },
          "execution_count": 7
        }
      ]
    },
    {
      "cell_type": "markdown",
      "metadata": {
        "tags": [
          "pandas"
        ],
        "id": "bT2d6Kyoew1A"
      },
      "source": [
        "Let's get some information about the iris dataset. Let's try to do the following:\n",
        "\n",
        "1. Find out how many columns there are in the `DataFrame` object, and what kinds of data are in each column\n",
        "2. Calculate the average petal length\n",
        "3. Determine what species of flowers are in the dataset\n",
        "4. Get an overall summary of the dataset"
      ]
    },
    {
      "cell_type": "code",
      "metadata": {
        "tags": [
          "pandas"
        ],
        "id": "_iD8VodBew1A",
        "colab": {
          "base_uri": "https://localhost:8080/"
        },
        "outputId": "91e3df80-48fc-4ff6-f140-5fc624e16272"
      },
      "source": [
        "# 1. Column labels, and types of data in each column\n",
        "iris.dtypes"
      ],
      "execution_count": null,
      "outputs": [
        {
          "output_type": "execute_result",
          "data": {
            "text/plain": [
              "sepal_length    float64\n",
              "sepal_width     float64\n",
              "petal_length    float64\n",
              "petal_width     float64\n",
              "species          object\n",
              "dtype: object"
            ]
          },
          "metadata": {
            "tags": []
          },
          "execution_count": 8
        }
      ]
    },
    {
      "cell_type": "code",
      "metadata": {
        "tags": [
          "pandas"
        ],
        "id": "86iRYh2Vew1B"
      },
      "source": [
        "# 2. Calculate the average petal length\n",
        "iris['petal_length'].mean()"
      ],
      "execution_count": null,
      "outputs": []
    },
    {
      "cell_type": "code",
      "metadata": {
        "tags": [
          "pandas"
        ],
        "id": "QPxMqSRUew1B",
        "colab": {
          "base_uri": "https://localhost:8080/"
        },
        "outputId": "fef2cf26-443a-4e31-963b-857e27a414a8"
      },
      "source": [
        "# 3. Determine which iris species are in the dataset\n",
        "iris['species'].unique()"
      ],
      "execution_count": null,
      "outputs": [
        {
          "output_type": "execute_result",
          "data": {
            "text/plain": [
              "array(['setosa', 'versicolor', 'virginica'], dtype=object)"
            ]
          },
          "metadata": {
            "tags": []
          },
          "execution_count": 9
        }
      ]
    },
    {
      "cell_type": "code",
      "metadata": {
        "tags": [
          "pandas"
        ],
        "id": "nszYKuipew1B",
        "colab": {
          "base_uri": "https://localhost:8080/",
          "height": 297
        },
        "outputId": "a60610af-8e52-4ea9-f58d-d077579442a5"
      },
      "source": [
        "# 4. Summary of the data\n",
        "iris.describe()"
      ],
      "execution_count": null,
      "outputs": [
        {
          "output_type": "execute_result",
          "data": {
            "text/html": [
              "<div>\n",
              "<style scoped>\n",
              "    .dataframe tbody tr th:only-of-type {\n",
              "        vertical-align: middle;\n",
              "    }\n",
              "\n",
              "    .dataframe tbody tr th {\n",
              "        vertical-align: top;\n",
              "    }\n",
              "\n",
              "    .dataframe thead th {\n",
              "        text-align: right;\n",
              "    }\n",
              "</style>\n",
              "<table border=\"1\" class=\"dataframe\">\n",
              "  <thead>\n",
              "    <tr style=\"text-align: right;\">\n",
              "      <th></th>\n",
              "      <th>sepal_length</th>\n",
              "      <th>sepal_width</th>\n",
              "      <th>petal_length</th>\n",
              "      <th>petal_width</th>\n",
              "    </tr>\n",
              "  </thead>\n",
              "  <tbody>\n",
              "    <tr>\n",
              "      <th>count</th>\n",
              "      <td>150.000000</td>\n",
              "      <td>150.000000</td>\n",
              "      <td>150.000000</td>\n",
              "      <td>150.000000</td>\n",
              "    </tr>\n",
              "    <tr>\n",
              "      <th>mean</th>\n",
              "      <td>5.843333</td>\n",
              "      <td>3.057333</td>\n",
              "      <td>3.758000</td>\n",
              "      <td>1.199333</td>\n",
              "    </tr>\n",
              "    <tr>\n",
              "      <th>std</th>\n",
              "      <td>0.828066</td>\n",
              "      <td>0.435866</td>\n",
              "      <td>1.765298</td>\n",
              "      <td>0.762238</td>\n",
              "    </tr>\n",
              "    <tr>\n",
              "      <th>min</th>\n",
              "      <td>4.300000</td>\n",
              "      <td>2.000000</td>\n",
              "      <td>1.000000</td>\n",
              "      <td>0.100000</td>\n",
              "    </tr>\n",
              "    <tr>\n",
              "      <th>25%</th>\n",
              "      <td>5.100000</td>\n",
              "      <td>2.800000</td>\n",
              "      <td>1.600000</td>\n",
              "      <td>0.300000</td>\n",
              "    </tr>\n",
              "    <tr>\n",
              "      <th>50%</th>\n",
              "      <td>5.800000</td>\n",
              "      <td>3.000000</td>\n",
              "      <td>4.350000</td>\n",
              "      <td>1.300000</td>\n",
              "    </tr>\n",
              "    <tr>\n",
              "      <th>75%</th>\n",
              "      <td>6.400000</td>\n",
              "      <td>3.300000</td>\n",
              "      <td>5.100000</td>\n",
              "      <td>1.800000</td>\n",
              "    </tr>\n",
              "    <tr>\n",
              "      <th>max</th>\n",
              "      <td>7.900000</td>\n",
              "      <td>4.400000</td>\n",
              "      <td>6.900000</td>\n",
              "      <td>2.500000</td>\n",
              "    </tr>\n",
              "  </tbody>\n",
              "</table>\n",
              "</div>"
            ],
            "text/plain": [
              "       sepal_length  sepal_width  petal_length  petal_width\n",
              "count    150.000000   150.000000    150.000000   150.000000\n",
              "mean       5.843333     3.057333      3.758000     1.199333\n",
              "std        0.828066     0.435866      1.765298     0.762238\n",
              "min        4.300000     2.000000      1.000000     0.100000\n",
              "25%        5.100000     2.800000      1.600000     0.300000\n",
              "50%        5.800000     3.000000      4.350000     1.300000\n",
              "75%        6.400000     3.300000      5.100000     1.800000\n",
              "max        7.900000     4.400000      6.900000     2.500000"
            ]
          },
          "metadata": {
            "tags": []
          },
          "execution_count": 10
        }
      ]
    },
    {
      "cell_type": "markdown",
      "metadata": {
        "id": "Oo3KIKnKew1C"
      },
      "source": [
        "Sometimes we need to extract certain rows or columns of a DataFrame. For instance, in the following code we store each species of flower in its own variable:"
      ]
    },
    {
      "cell_type": "code",
      "metadata": {
        "tags": [
          "pandas"
        ],
        "id": "IOntZTWmew1C"
      },
      "source": [
        "\"\"\"\n",
        "IPython.display is a convenience function that works in Jupyter Notebook\n",
        "(or, more generally, any IPython-based application) that will show\n",
        "objects in a nicer way than using print(). We'll use it in this notebook\n",
        "to show some pandas DataFrames.\n",
        "\"\"\"\n",
        "from IPython.display import display\n",
        "\n",
        "\"\"\"\n",
        "Create a DataFrame for each species of flower. I've provided two\n",
        "methods for creating these DataFrames below; pick whichever you\n",
        "prefer as they are equivalent.\n",
        "\"\"\"\n",
        "# Method 1: \"query\" function\n",
        "setosa     = iris.query('species == \"setosa\"')\n",
        "versicolor = iris.query('species == \"versicolor\"')\n",
        "\n",
        "# Method 2: index into the DataFrame\n",
        "virginica = iris[iris['species'] == 'virginica']\n",
        "\n",
        "\"\"\"\n",
        "Show the first few entries of the DataFrame corresponding to each species\n",
        "\"\"\"\n",
        "print('Setosa data:')\n",
        "display(setosa.head())\n",
        "\n",
        "print('Versicolor data:')\n",
        "display(versicolor.head())\n",
        "\n",
        "print('Virginica data:')\n",
        "display(virginica.head())"
      ],
      "execution_count": null,
      "outputs": []
    },
    {
      "cell_type": "markdown",
      "metadata": {
        "id": "dmk5HaeDew1C"
      },
      "source": [
        "To extract a column, we can either use `iris[column_name]` or `iris.iloc[:,column_index]`."
      ]
    },
    {
      "cell_type": "code",
      "metadata": {
        "scrolled": false,
        "id": "IG0SDNv5ew1D"
      },
      "source": [
        "\"\"\"\n",
        "Get the first column.\n",
        "\n",
        "Note: whenever we extract a single column of a pandas DataFrame,\n",
        "we get back a pandas Series object. To turn it back into a DataFrame,\n",
        "we add the line `first_column = pd.DataFrame(first_column)`.\n",
        "\"\"\"\n",
        "first_column = iris.iloc[:,0]\n",
        "first_column = pd.DataFrame(first_column)\n",
        "\n",
        "print('First column:')\n",
        "display(first_column.head())\n",
        "\n",
        "\"\"\"\n",
        "Get the first through third columns\n",
        "\"\"\"\n",
        "first_through_third_columns = iris.iloc[:,0:3]\n",
        "\n",
        "print('First through third columns:')\n",
        "display(first_through_third_columns.head())\n",
        "\n",
        "\"\"\"\n",
        "Get the 'species' column.\n",
        "\"\"\"\n",
        "species = iris['species']\n",
        "species = pd.DataFrame(species)\n",
        "\n",
        "print('Species column:')\n",
        "display(species.head())\n",
        "\n",
        "\"\"\"\n",
        "Get all columns *except* the species column\n",
        "\"\"\"\n",
        "all_but_species = iris.iloc[:, iris.columns != 'species']\n",
        "\n",
        "print(\"All columns *except* species:\")\n",
        "display(all_but_species.head())"
      ],
      "execution_count": null,
      "outputs": []
    },
    {
      "cell_type": "markdown",
      "metadata": {
        "id": "bnpDFCy-ew1D"
      },
      "source": [
        "If you want to create your own pandas `DataFrame`, you have to specify the names of the columns and the items in the rows of the `DataFrame`."
      ]
    },
    {
      "cell_type": "code",
      "metadata": {
        "id": "Rg-0x2oNew1D"
      },
      "source": [
        "column_labels = ['A', 'B']\n",
        "\n",
        "column_entries = [\n",
        "    [1, 2],\n",
        "    [4, 5],\n",
        "    [7, 8]\n",
        "]\n",
        "\n",
        "pd.DataFrame(column_entries, columns=column_labels)"
      ],
      "execution_count": null,
      "outputs": []
    },
    {
      "cell_type": "markdown",
      "metadata": {
        "id": "r2Gi3RFaew1E"
      },
      "source": [
        "# Introduction to NumPy\n",
        "[NumPy](https://www.numpy.org/) is another Python package providing useful data structures and mathematical functions. NumPy's fundamental data type is the array, `numpy.ndarray`, which is like a stripped-down version of a pandas `DataFrame`. However, the `numpy.ndarray` supports much faster operations, which makes it a lot more practical for scientific computing than, say, Python's list objects."
      ]
    },
    {
      "cell_type": "code",
      "metadata": {
        "collapsed": true,
        "id": "qDlVDHEnew1E"
      },
      "source": [
        "import numpy as np\n",
        "\n",
        "# 1. Create an array with the numbers [1, 2, 3]\n",
        "x = np.array([1, 2, 3])\n",
        "\n",
        "# 2. Create a 2 x 2 matrix with [1, 2] in the first row and [3, 4]\n",
        "#    in the second row.\n",
        "x = np.array( [[1,2], [3,4]] )\n",
        "\n",
        "# 3. Create an array with the numbers 0, 1, ... , 9. Equivalent to\n",
        "#    calling np.array(range(10))\n",
        "x = np.arange(10)\n",
        "\n",
        "# 4. Create a 2 x 2 matrix with zeros in all entries\n",
        "x = np.zeros( (2,2) )\n",
        "\n",
        "# 5. Get the total number of items in the matrix, and the shape of\n",
        "#    the matrix.\n",
        "num_items    = x.size\n",
        "matrix_shape = x.shape"
      ],
      "execution_count": null,
      "outputs": []
    },
    {
      "cell_type": "markdown",
      "metadata": {
        "id": "YOoU8up3ew1E"
      },
      "source": [
        "Besides just providing data structures, though, NumPy provides many mathematical utilities as well."
      ]
    },
    {
      "cell_type": "code",
      "metadata": {
        "id": "cEUTDHMQew1E"
      },
      "source": [
        "### Constants: pi\n",
        "print('π      = %f' % np.pi)\n",
        "print()\n",
        "\n",
        "### Simple functions: sine, cosine, e^x, log, ...\n",
        "print('sin(0) = %f' % np.sin(0))\n",
        "print('cos(0) = %f' % np.cos(0))\n",
        "print('e^1    = %f' % np.exp(1))\n",
        "print('ln(1)  = %f' % np.log(1))\n",
        "print()\n",
        "\n",
        "### Minimums, maximums, sums...\n",
        "x = np.array([1,2,3])\n",
        "print('Min of [1,2,3] = %d' % x.min())\n",
        "print('Max of [1,2,3] = %d' % x.max())\n",
        "print('Sum of [1,2,3] = %d' % x.sum())\n",
        "print()\n",
        "\n",
        "### Random numbers: uniform distribution, normal distribution, ...\n",
        "print('Random numbers:')\n",
        "print('Uniform([0,1]): %f' % np.random.uniform(0,1))\n",
        "print('Normal(0,1):    %f' % np.random.normal(loc=0, scale=1))\n",
        "print('Poisson(1):     %f' % np.random.poisson(1))"
      ],
      "execution_count": null,
      "outputs": []
    },
    {
      "cell_type": "markdown",
      "metadata": {
        "id": "tO-WZ2qrew1L"
      },
      "source": [
        "NumPy is primarily used to do large-scale operations on arrays of numbers. Because it has C code running behind the scenes, it can do these computations extremely quickly -- much faster than you could do with regular Python code. Among other things, with NumPy you can\n",
        "\n",
        "* add a number to every element of an array;\n",
        "* multiply every element of an array by a number;\n",
        "* add or multiply two arrays together; or\n",
        "* calculate a matrix-vector or matrix-matrix product between arrays."
      ]
    },
    {
      "cell_type": "code",
      "metadata": {
        "id": "-Uis_H6mew1L"
      },
      "source": [
        "x = np.array([1,2,3])\n",
        "y = np.array([4,5,6])\n",
        "\n",
        "print('1 + [1,2,3] =', 1 + x)\n",
        "print('3 * [1,2,3] =', 3 * x)\n",
        "print('[1,2,3] * [4,5,6] =', x * y)\n",
        "print('[1,2,3] + [4,5,6] =', x + y)\n",
        "print('Dot product of [1,2,3] and [4,5,6] =', x.dot(y))"
      ],
      "execution_count": null,
      "outputs": []
    },
    {
      "cell_type": "markdown",
      "metadata": {
        "id": "HRtmHNX0ew1N"
      },
      "source": [
        "# Additional References <a id=\"additional-references\"></a>\n",
        "\n",
        "* O Reilly provides a couple of good books that go in-depth about these tools and more:\n",
        "  * [Python Data Science Handbook](http://shop.oreilly.com/product/0636920034919.do)\n",
        "  * [Python for Data Analysis](http://shop.oreilly.com/product/0636920023784.do) -- this book was published in 2012 and may be slightly dated. However, the author provides some Jupyter Notebooks for free in [this repository](https://github.com/wesm/pydata-book) that you may find helpful.\n",
        "* Check out the full documentation for Jupyter on the [Project Jupyter site](https://jupyter.org/documentation).\n",
        "* Plotting tools:\n",
        "  * **Matplotlib** (Highly Recommended!)\n",
        "    * [**Documentation**](https://matplotlib.org/contents.html)\n",
        "    * [**Tutorials**](https://matplotlib.org/tutorials/index.html)\n",
        "  * Plotly\n",
        "    * [Documentation](https://plot.ly/python/reference/)\n",
        "    * [Examples](https://plot.ly/python/)\n",
        "  * Seaborn [The differences between versions are too large, and thus it is confusing sometimes. ]\n",
        "    * [Documentation](https://seaborn.pydata.org/api.html)\n",
        "    * [Introduction](https://seaborn.pydata.org/introduction.html)\n",
        "* [scikit-learn documentation](https://scikit-learn.org/stable/index.html)"
      ]
    }
  ]
}